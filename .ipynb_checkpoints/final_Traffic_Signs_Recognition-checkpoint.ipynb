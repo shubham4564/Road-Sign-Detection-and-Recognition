{
 "cells": [
  {
   "cell_type": "code",
   "execution_count": 5,
   "metadata": {},
   "outputs": [
    {
     "name": "stdout",
     "output_type": "stream",
     "text": [
      "Loading data...\n",
      "Done loading data\n"
     ]
    }
   ],
   "source": [
    "print('Loading data...')\n",
    "# Load pickled data\n",
    "import pickle\n",
    "\n",
    "training_file = './train.p'\n",
    "testing_file = './test.p'\n",
    "\n",
    "with open(training_file, mode='rb') as f:\n",
    "    train = pickle.load(f)\n",
    "with open(testing_file, mode='rb') as f:\n",
    "    test = pickle.load(f)\n",
    "\n",
    "train_features, train_labels = train['features'], train['labels']\n",
    "test_features, test_labels = test['features'], test['labels']\n",
    "\n",
    "print('Done loading data')"
   ]
  },
  {
   "cell_type": "code",
   "execution_count": 6,
   "metadata": {},
   "outputs": [
    {
     "name": "stdout",
     "output_type": "stream",
     "text": [
      "Number of training examples = 39209\n",
      "Number of testing examples = 12630\n",
      "Image data shape = 32x32\n",
      "Number of classes = 43\n"
     ]
    }
   ],
   "source": [
    "### To start off let's do a basic data summary.\n",
    "n_train = len(train_features)\n",
    "n_test = len(test_features)\n",
    "image_shape = \"{}x{}\".format(len(train_features[0]), len(train_features[0][0]))\n",
    "n_classes = max(train_labels) + 1\n",
    "\n",
    "print(\"Number of training examples =\", n_train)\n",
    "print(\"Number of testing examples =\", n_test)\n",
    "print(\"Image data shape =\", image_shape)\n",
    "print(\"Number of classes =\", n_classes)"
   ]
  },
  {
   "cell_type": "code",
   "execution_count": 12,
   "metadata": {},
   "outputs": [
    {
     "data": {
      "text/plain": [
       "<matplotlib.figure.Figure at 0x1fb02beb3c8>"
      ]
     },
     "metadata": {},
     "output_type": "display_data"
    },
    {
     "name": "stdout",
     "output_type": "stream",
     "text": [
      "Class:  0\n"
     ]
    },
    {
     "data": {
      "text/plain": [
       "<matplotlib.figure.Figure at 0x1fb032cd438>"
      ]
     },
     "metadata": {},
     "output_type": "display_data"
    },
    {
     "name": "stdout",
     "output_type": "stream",
     "text": [
      "Class:  1\n"
     ]
    },
    {
     "data": {
      "text/plain": [
       "<matplotlib.figure.Figure at 0x1fb0538cb70>"
      ]
     },
     "metadata": {},
     "output_type": "display_data"
    },
    {
     "name": "stdout",
     "output_type": "stream",
     "text": [
      "Class:  2\n"
     ]
    },
    {
     "data": {
      "text/plain": [
       "<matplotlib.figure.Figure at 0x1fb0539b828>"
      ]
     },
     "metadata": {},
     "output_type": "display_data"
    },
    {
     "name": "stdout",
     "output_type": "stream",
     "text": [
      "Class:  3\n"
     ]
    },
    {
     "data": {
      "text/plain": [
       "<matplotlib.figure.Figure at 0x1fb053963c8>"
      ]
     },
     "metadata": {},
     "output_type": "display_data"
    },
    {
     "name": "stdout",
     "output_type": "stream",
     "text": [
      "Class:  4\n"
     ]
    },
    {
     "data": {
      "text/plain": [
       "<matplotlib.figure.Figure at 0x1fb053d1f28>"
      ]
     },
     "metadata": {},
     "output_type": "display_data"
    },
    {
     "name": "stdout",
     "output_type": "stream",
     "text": [
      "Class:  5\n"
     ]
    },
    {
     "data": {
      "text/plain": [
       "<matplotlib.figure.Figure at 0x1fb053f9048>"
      ]
     },
     "metadata": {},
     "output_type": "display_data"
    },
    {
     "name": "stdout",
     "output_type": "stream",
     "text": [
      "Class:  6\n"
     ]
    },
    {
     "data": {
      "text/plain": [
       "<matplotlib.figure.Figure at 0x1fb0541f240>"
      ]
     },
     "metadata": {},
     "output_type": "display_data"
    },
    {
     "name": "stdout",
     "output_type": "stream",
     "text": [
      "Class:  7\n"
     ]
    },
    {
     "data": {
      "text/plain": [
       "<matplotlib.figure.Figure at 0x1fb05446860>"
      ]
     },
     "metadata": {},
     "output_type": "display_data"
    },
    {
     "name": "stdout",
     "output_type": "stream",
     "text": [
      "Class:  8\n"
     ]
    },
    {
     "data": {
      "text/plain": [
       "<matplotlib.figure.Figure at 0x1fb05469b70>"
      ]
     },
     "metadata": {},
     "output_type": "display_data"
    },
    {
     "name": "stdout",
     "output_type": "stream",
     "text": [
      "Class:  9\n"
     ]
    },
    {
     "data": {
      "text/plain": [
       "<matplotlib.figure.Figure at 0x1fb05492048>"
      ]
     },
     "metadata": {},
     "output_type": "display_data"
    },
    {
     "name": "stdout",
     "output_type": "stream",
     "text": [
      "Class:  10\n"
     ]
    },
    {
     "data": {
      "text/plain": [
       "<matplotlib.figure.Figure at 0x1fb054b84a8>"
      ]
     },
     "metadata": {},
     "output_type": "display_data"
    },
    {
     "name": "stdout",
     "output_type": "stream",
     "text": [
      "Class:  11\n"
     ]
    },
    {
     "data": {
      "text/plain": [
       "<matplotlib.figure.Figure at 0x1fb054dd668>"
      ]
     },
     "metadata": {},
     "output_type": "display_data"
    },
    {
     "name": "stdout",
     "output_type": "stream",
     "text": [
      "Class:  12\n"
     ]
    },
    {
     "data": {
      "text/plain": [
       "<matplotlib.figure.Figure at 0x1fb05501f28>"
      ]
     },
     "metadata": {},
     "output_type": "display_data"
    },
    {
     "name": "stdout",
     "output_type": "stream",
     "text": [
      "Class:  13\n"
     ]
    },
    {
     "data": {
      "text/plain": [
       "<matplotlib.figure.Figure at 0x1fb055290b8>"
      ]
     },
     "metadata": {},
     "output_type": "display_data"
    },
    {
     "name": "stdout",
     "output_type": "stream",
     "text": [
      "Class:  14\n"
     ]
    },
    {
     "data": {
      "text/plain": [
       "<matplotlib.figure.Figure at 0x1fb05551390>"
      ]
     },
     "metadata": {},
     "output_type": "display_data"
    },
    {
     "name": "stdout",
     "output_type": "stream",
     "text": [
      "Class:  15\n"
     ]
    },
    {
     "data": {
      "text/plain": [
       "<matplotlib.figure.Figure at 0x1fb05573668>"
      ]
     },
     "metadata": {},
     "output_type": "display_data"
    },
    {
     "name": "stdout",
     "output_type": "stream",
     "text": [
      "Class:  16\n"
     ]
    },
    {
     "data": {
      "text/plain": [
       "<matplotlib.figure.Figure at 0x1fb05598ba8>"
      ]
     },
     "metadata": {},
     "output_type": "display_data"
    },
    {
     "name": "stdout",
     "output_type": "stream",
     "text": [
      "Class:  17\n"
     ]
    },
    {
     "data": {
      "text/plain": [
       "<matplotlib.figure.Figure at 0x1fb055c1080>"
      ]
     },
     "metadata": {},
     "output_type": "display_data"
    },
    {
     "name": "stdout",
     "output_type": "stream",
     "text": [
      "Class:  18\n"
     ]
    },
    {
     "data": {
      "text/plain": [
       "<matplotlib.figure.Figure at 0x1fb055e63c8>"
      ]
     },
     "metadata": {},
     "output_type": "display_data"
    },
    {
     "name": "stdout",
     "output_type": "stream",
     "text": [
      "Class:  19\n"
     ]
    },
    {
     "data": {
      "text/plain": [
       "<matplotlib.figure.Figure at 0x1fb0560c8d0>"
      ]
     },
     "metadata": {},
     "output_type": "display_data"
    },
    {
     "name": "stdout",
     "output_type": "stream",
     "text": [
      "Class:  20\n"
     ]
    },
    {
     "data": {
      "text/plain": [
       "<matplotlib.figure.Figure at 0x1fb05631a58>"
      ]
     },
     "metadata": {},
     "output_type": "display_data"
    },
    {
     "name": "stdout",
     "output_type": "stream",
     "text": [
      "Class:  21\n"
     ]
    },
    {
     "data": {
      "text/plain": [
       "<matplotlib.figure.Figure at 0x1fb0565a048>"
      ]
     },
     "metadata": {},
     "output_type": "display_data"
    },
    {
     "name": "stdout",
     "output_type": "stream",
     "text": [
      "Class:  22\n"
     ]
    },
    {
     "data": {
      "text/plain": [
       "<matplotlib.figure.Figure at 0x1fb0567e278>"
      ]
     },
     "metadata": {},
     "output_type": "display_data"
    },
    {
     "name": "stdout",
     "output_type": "stream",
     "text": [
      "Class:  23\n"
     ]
    },
    {
     "data": {
      "text/plain": [
       "<matplotlib.figure.Figure at 0x1fb056a4668>"
      ]
     },
     "metadata": {},
     "output_type": "display_data"
    },
    {
     "name": "stdout",
     "output_type": "stream",
     "text": [
      "Class:  24\n"
     ]
    },
    {
     "data": {
      "text/plain": [
       "<matplotlib.figure.Figure at 0x1fb056caba8>"
      ]
     },
     "metadata": {},
     "output_type": "display_data"
    },
    {
     "name": "stdout",
     "output_type": "stream",
     "text": [
      "Class:  25\n"
     ]
    },
    {
     "data": {
      "text/plain": [
       "<matplotlib.figure.Figure at 0x1fb056f3048>"
      ]
     },
     "metadata": {},
     "output_type": "display_data"
    },
    {
     "name": "stdout",
     "output_type": "stream",
     "text": [
      "Class:  26\n"
     ]
    },
    {
     "data": {
      "text/plain": [
       "<matplotlib.figure.Figure at 0x1fb057183c8>"
      ]
     },
     "metadata": {},
     "output_type": "display_data"
    },
    {
     "name": "stdout",
     "output_type": "stream",
     "text": [
      "Class:  27\n"
     ]
    },
    {
     "data": {
      "text/plain": [
       "<matplotlib.figure.Figure at 0x1fb0573e828>"
      ]
     },
     "metadata": {},
     "output_type": "display_data"
    },
    {
     "name": "stdout",
     "output_type": "stream",
     "text": [
      "Class:  28\n"
     ]
    },
    {
     "data": {
      "text/plain": [
       "<matplotlib.figure.Figure at 0x1fb05763a58>"
      ]
     },
     "metadata": {},
     "output_type": "display_data"
    },
    {
     "name": "stdout",
     "output_type": "stream",
     "text": [
      "Class:  29\n"
     ]
    },
    {
     "data": {
      "text/plain": [
       "<matplotlib.figure.Figure at 0x1fb0578b048>"
      ]
     },
     "metadata": {},
     "output_type": "display_data"
    },
    {
     "name": "stdout",
     "output_type": "stream",
     "text": [
      "Class:  30\n"
     ]
    },
    {
     "data": {
      "text/plain": [
       "<matplotlib.figure.Figure at 0x1fb057b13c8>"
      ]
     },
     "metadata": {},
     "output_type": "display_data"
    },
    {
     "name": "stdout",
     "output_type": "stream",
     "text": [
      "Class:  31\n"
     ]
    },
    {
     "data": {
      "text/plain": [
       "<matplotlib.figure.Figure at 0x1fb057d57b8>"
      ]
     },
     "metadata": {},
     "output_type": "display_data"
    },
    {
     "name": "stdout",
     "output_type": "stream",
     "text": [
      "Class:  32\n"
     ]
    },
    {
     "data": {
      "text/plain": [
       "<matplotlib.figure.Figure at 0x1fb057faba8>"
      ]
     },
     "metadata": {},
     "output_type": "display_data"
    },
    {
     "name": "stdout",
     "output_type": "stream",
     "text": [
      "Class:  33\n"
     ]
    },
    {
     "data": {
      "text/plain": [
       "<matplotlib.figure.Figure at 0x1fb058240b8>"
      ]
     },
     "metadata": {},
     "output_type": "display_data"
    },
    {
     "name": "stdout",
     "output_type": "stream",
     "text": [
      "Class:  34\n"
     ]
    },
    {
     "data": {
      "text/plain": [
       "<matplotlib.figure.Figure at 0x1fb0581e668>"
      ]
     },
     "metadata": {},
     "output_type": "display_data"
    },
    {
     "name": "stdout",
     "output_type": "stream",
     "text": [
      "Class:  35\n"
     ]
    },
    {
     "data": {
      "text/plain": [
       "<matplotlib.figure.Figure at 0x1fb782ae400>"
      ]
     },
     "metadata": {},
     "output_type": "display_data"
    },
    {
     "name": "stdout",
     "output_type": "stream",
     "text": [
      "Class:  36\n"
     ]
    },
    {
     "data": {
      "text/plain": [
       "<matplotlib.figure.Figure at 0x1fb058047f0>"
      ]
     },
     "metadata": {},
     "output_type": "display_data"
    },
    {
     "name": "stdout",
     "output_type": "stream",
     "text": [
      "Class:  37\n"
     ]
    },
    {
     "data": {
      "text/plain": [
       "<matplotlib.figure.Figure at 0x1fb058120b8>"
      ]
     },
     "metadata": {},
     "output_type": "display_data"
    },
    {
     "name": "stdout",
     "output_type": "stream",
     "text": [
      "Class:  38\n"
     ]
    },
    {
     "data": {
      "text/plain": [
       "<matplotlib.figure.Figure at 0x1fb053a53c8>"
      ]
     },
     "metadata": {},
     "output_type": "display_data"
    },
    {
     "name": "stdout",
     "output_type": "stream",
     "text": [
      "Class:  39\n"
     ]
    },
    {
     "data": {
      "text/plain": [
       "<matplotlib.figure.Figure at 0x1fb0584c7b8>"
      ]
     },
     "metadata": {},
     "output_type": "display_data"
    },
    {
     "name": "stdout",
     "output_type": "stream",
     "text": [
      "Class:  40\n"
     ]
    },
    {
     "data": {
      "text/plain": [
       "<matplotlib.figure.Figure at 0x1fb0586fba8>"
      ]
     },
     "metadata": {},
     "output_type": "display_data"
    },
    {
     "name": "stdout",
     "output_type": "stream",
     "text": [
      "Class:  41\n"
     ]
    },
    {
     "data": {
      "text/plain": [
       "<matplotlib.figure.Figure at 0x1fb057c7080>"
      ]
     },
     "metadata": {},
     "output_type": "display_data"
    },
    {
     "name": "stdout",
     "output_type": "stream",
     "text": [
      "Class:  42\n"
     ]
    },
    {
     "data": {
      "text/plain": [
       "<matplotlib.figure.Figure at 0x1fb057ab3c8>"
      ]
     },
     "metadata": {},
     "output_type": "display_data"
    },
    {
     "name": "stdout",
     "output_type": "stream",
     "text": [
      "Data visualisation complete\n"
     ]
    }
   ],
   "source": [
    "import matplotlib.pyplot as plt\n",
    "import numpy as np\n",
    "import scipy.ndimage\n",
    "\n",
    "train_features = np.array(train['features'])\n",
    "train_labels = np.array(train['labels'])\n",
    "\n",
    "inputs_per_class = np.bincount(train_labels)\n",
    "max_inputs = np.max(inputs_per_class)\n",
    "\n",
    "mpl_fig = plt.figure()\n",
    "ax = mpl_fig.add_subplot(111)\n",
    "ax.set_ylabel('Inputs')\n",
    "ax.set_xlabel('Class')\n",
    "ax.set_title('Number of inputs per class')\n",
    "ax.bar(range(len(inputs_per_class)), inputs_per_class, 1/3, color='blue', label='Inputs per class')\n",
    "plt.show()\n",
    "\n",
    "for i in range(n_classes):\n",
    "    for j in range(len(train_labels)):\n",
    "        if (i == train_labels[j]):\n",
    "            print('Class: ', i)\n",
    "            plt.imshow(train_features[j])\n",
    "            plt.show()\n",
    "            break\n",
    "\n",
    "print('Data visualisation complete')"
   ]
  },
  {
   "cell_type": "code",
   "execution_count": 13,
   "metadata": {},
   "outputs": [
    {
     "name": "stdout",
     "output_type": "stream",
     "text": [
      "Preprocessing data...\n",
      "Generating additional data...\n",
      "Normalizing features...\n",
      "Randomizing datasets...\n",
      "Data preprocessed\n"
     ]
    }
   ],
   "source": [
    "print('Preprocessing data...')\n",
    "# Generate additional data for underrepresented classes\n",
    "print('Generating additional data...')\n",
    "angles = [-5, 5, -10, 10, -15, 15, -20, 20]\n",
    "\n",
    "for i in range(len(inputs_per_class)):\n",
    "    input_ratio = min(int(max_inputs / inputs_per_class[i]) - 1, len(angles) - 1)\n",
    "\n",
    "    if input_ratio <= 1:\n",
    "        continue\n",
    "\n",
    "    new_features = []\n",
    "    new_labels = []\n",
    "    mask = np.where(train_labels == i)\n",
    "\n",
    "    for j in range(input_ratio):\n",
    "        for feature in train_features[mask]:\n",
    "            new_features.append(scipy.ndimage.rotate(feature, angles[j], reshape=False))\n",
    "            new_labels.append(i)\n",
    "\n",
    "    train_features = np.append(train_features, new_features, axis=0)\n",
    "    train_labels = np.append(train_labels, new_labels, axis=0)\n",
    "\n",
    "# Normalize features\n",
    "print('Normalizing features...')\n",
    "train_features = train_features / 255. * 0.8 + 0.1\n",
    "\n",
    "# Get randomized datasets for training and validation\n",
    "print('Randomizing datasets...')\n",
    "from sklearn.model_selection import train_test_split\n",
    "train_features, valid_features, train_labels, valid_labels = train_test_split(\n",
    "   train_features,\n",
    "   train_labels,\n",
    "   test_size=0.2,\n",
    "   random_state=832289\n",
    ")\n",
    "\n",
    "print('Data preprocessed')"
   ]
  },
  {
   "cell_type": "code",
   "execution_count": 14,
   "metadata": {},
   "outputs": [
    {
     "data": {
      "image/png": "[encoded data removed]",
      "text/plain": [
       "<matplotlib.figure.Figure at 0x1fb029ff048>"
      ]
     },
     "metadata": {},
     "output_type": "display_data"
    }
   ],
   "source": [
    "inputs_per_class = np.bincount(train_labels)\n",
    "mpl_fig = plt.figure()\n",
    "ax = mpl_fig.add_subplot(111)\n",
    "ax.set_ylabel('Inputs')\n",
    "ax.set_xlabel('Class')\n",
    "ax.set_title('Number of inputs per class')\n",
    "ax.bar(range(len(inputs_per_class)), inputs_per_class, 1/3, color='blue', label='Inputs per class')\n",
    "plt.show()\n"
   ]
  },
  {
   "cell_type": "code",
   "execution_count": null,
   "metadata": {
    "collapsed": true
   },
   "outputs": [],
   "source": []
  },
  {
   "cell_type": "code",
   "execution_count": 16,
   "metadata": {},
   "outputs": [
    {
     "name": "stdout",
     "output_type": "stream",
     "text": [
      "Creating network architecture...\n",
      "Network architecture created\n"
     ]
    }
   ],
   "source": [
    "print('Creating network architecture...')\n",
    "import tensorflow as tf\n",
    "# Input dimensions\n",
    "image_width = len(train_features[0][0])\n",
    "image_height = len(train_features[0])\n",
    "color_channels = len(train_features[0][0][0])\n",
    "\n",
    "# Convolutional layer patch and output size\n",
    "filter_width = 3\n",
    "filter_height = 3\n",
    "conv_k_output = 128\n",
    "\n",
    "# Dimension parameters for each fully connected layer\n",
    "fc_params = [\n",
    "    image_width * image_height * conv_k_output,\n",
    "    1024,\n",
    "    1024,\n",
    "    n_classes\n",
    "]\n",
    "\n",
    "# Build weights and biases\n",
    "conv2d_weight = None\n",
    "conv2d_bias = None\n",
    "fc_weights = []\n",
    "fc_biases = []\n",
    "\n",
    "with tf.variable_scope('BONHOMME', reuse=False):\n",
    "    conv2d_weight = tf.get_variable(\"conv2w\", shape=[filter_width, filter_height, color_channels, conv_k_output], initializer=tf.contrib.layers.xavier_initializer())\n",
    "    conv2d_bias = tf.get_variable(\"conv2b\", shape=[conv_k_output], initializer=tf.contrib.layers.xavier_initializer())\n",
    "    \n",
    "    for i in range(len(fc_params) - 1):\n",
    "        fc_weights.append(tf.get_variable('fc_weight' + str(i), shape=[fc_params[i], fc_params[i + 1]], initializer=tf.contrib.layers.xavier_initializer()))\n",
    "        fc_biases.append(tf.get_variable('fc_bias' + str(i), shape=[fc_params[i + 1]], initializer=tf.contrib.layers.xavier_initializer()))\n",
    "\n",
    "# One-hot encoded training and validation labels\n",
    "oh_train_labels = tf.one_hot(train_labels, n_classes).eval(session=tf.Session())\n",
    "oh_valid_labels = tf.one_hot(valid_labels, n_classes).eval(session=tf.Session())\n",
    "\n",
    "# Input placeholders\n",
    "input_ph = tf.placeholder(tf.float32, shape=[None, image_width, image_height, color_channels])\n",
    "labels_ph = tf.placeholder(tf.float32)\n",
    "\n",
    "# Convolutional layer\n",
    "network = tf.nn.conv2d(input_ph, conv2d_weight, strides=[1, 1, 1, 1], padding='SAME')\n",
    "network = tf.nn.bias_add(network, conv2d_bias)\n",
    "network = tf.nn.relu(network)\n",
    "\n",
    "# Fully connected layers\n",
    "for i in range(len(fc_weights)):\n",
    "    network = tf.matmul(tf.contrib.layers.flatten(network), fc_weights[i]) + fc_biases[i]\n",
    "    if i < len(fc_weights) - 1: # No relu after last FC layer\n",
    "        network = tf.nn.relu(network)\n",
    "\n",
    "# Loss computation\n",
    "prediction = tf.nn.softmax(network)\n",
    "cross_entropy = -tf.reduce_sum(labels_ph * tf.log(prediction + 1e-6), reduction_indices=1)\n",
    "loss = tf.reduce_mean(cross_entropy)\n",
    "\n",
    "# Accuracy computation\n",
    "is_correct_prediction = tf.equal(tf.argmax(prediction, 1), tf.argmax(labels_ph, 1))\n",
    "accuracy = tf.reduce_mean(tf.cast(is_correct_prediction, tf.float32))\n",
    "\n",
    "print('Network architecture created')"
   ]
  },
  {
   "cell_type": "code",
   "execution_count": 17,
   "metadata": {},
   "outputs": [
    {
     "name": "stdout",
     "output_type": "stream",
     "text": [
      "Test label one hot encoded\n"
     ]
    }
   ],
   "source": [
    "test_features = np.array(test_features) / 255 * 0.8 + 0.1\n",
    "oh_test_labels = tf.one_hot(test_labels, n_classes).eval(session=tf.Session())\n",
    "print('Test label one hot encoded')"
   ]
  },
  {
   "cell_type": "code",
   "execution_count": 18,
   "metadata": {},
   "outputs": [
    {
     "name": "stdout",
     "output_type": "stream",
     "text": [
      "Run batch function created\n"
     ]
    }
   ],
   "source": [
    "batch_size = 150\n",
    "\n",
    "def run_batch(session, network, features, labels):\n",
    "    batch_count = int(len(features) / batch_size)\n",
    "    accuracy = 0\n",
    "    \n",
    "    for i in range(batch_count):\n",
    "        batch_start = i * batch_size\n",
    "        accuracy += session.run(\n",
    "            network,\n",
    "            feed_dict={\n",
    "                input_ph: features[batch_start:batch_start + batch_size],\n",
    "                labels_ph: labels[batch_start:batch_start + batch_size]\n",
    "            }\n",
    "        )\n",
    "    \n",
    "    return accuracy / batch_count\n",
    "\n",
    "print('Run batch function created')"
   ]
  },
  {
   "cell_type": "code",
   "execution_count": 19,
   "metadata": {},
   "outputs": [
    {
     "name": "stderr",
     "output_type": "stream",
     "text": [
      "Epoch  1/3: 100%|███████████████████████████████████████████████████████████████████████████████████████████████████████████████| 416/416 [44:04<00:00,  6.36s/batches]\n",
      "Epoch  2/3: 100%|███████████████████████████████████████████████████████████████████████████████████████████████████████████████| 416/416 [41:21<00:00,  5.97s/batches]\n",
      "Epoch  3/3: 100%|███████████████████████████████████████████████████████████████████████████████████████████████████████████████| 416/416 [42:16<00:00,  6.10s/batches]\n"
     ]
    },
    {
     "name": "stdout",
     "output_type": "stream",
     "text": [
      "Final validation accuracy:  0.9628205087322456\n",
      "Final test accuracy:  0.8236507922410965\n"
     ]
    },
    {
     "data": {
      "image/png": "[encoded data removed]",
      "text/plain": [
       "<matplotlib.figure.Figure at 0x1fb09a017b8>"
      ]
     },
     "metadata": {},
     "output_type": "display_data"
    }
   ],
   "source": [
    "from tqdm import tqdm\n",
    "\n",
    "training_epochs = 3\n",
    "optimizer = tf.train.AdamOptimizer().minimize(loss)\n",
    "\n",
    "log_batch_step = 100\n",
    "batches = []\n",
    "loss_batch = []\n",
    "train_acc_batch = []\n",
    "valid_acc_batch = []\n",
    "validation_accuracy = 0.0\n",
    "\n",
    "init = tf.global_variables_initializer()\n",
    "\n",
    "session = tf.Session(config=tf.ConfigProto(log_device_placement=True))\n",
    "session.run(init)\n",
    "batch_count = int(len(train_features) / batch_size)\n",
    "\n",
    "for epoch in range(training_epochs):\n",
    "    batches_pbar = tqdm(range(batch_count), desc='Epoch {:>2}/{}'.format(epoch + 1, training_epochs), unit='batches')\n",
    "\n",
    "    # The training cycle\n",
    "    for batch_i in batches_pbar:\n",
    "        batch_start = batch_i * batch_size\n",
    "        batch_features = train_features[batch_start:batch_start + batch_size]\n",
    "        batch_labels = oh_train_labels[batch_start:batch_start + batch_size]\n",
    "\n",
    "        _, l = session.run(\n",
    "            [optimizer, loss],\n",
    "            feed_dict={input_ph: batch_features, labels_ph: batch_labels})\n",
    "\n",
    "        if not batch_i % log_batch_step:\n",
    "            training_accuracy = session.run(\n",
    "                accuracy,\n",
    "                feed_dict={input_ph: batch_features, labels_ph: batch_labels}\n",
    "            )\n",
    "\n",
    "            idx = np.random.randint(len(valid_features), size=int(batch_size * .2))\n",
    "\n",
    "            validation_accuracy = session.run(\n",
    "                accuracy,\n",
    "                feed_dict={input_ph: valid_features[idx,:], labels_ph: oh_valid_labels[idx,:]}\n",
    "            )\n",
    "\n",
    "            # Log batches\n",
    "            previous_batch = batches[-1] if batches else 0\n",
    "            batches.append(log_batch_step + previous_batch)\n",
    "            loss_batch.append(l)\n",
    "            train_acc_batch.append(training_accuracy)\n",
    "            valid_acc_batch.append(validation_accuracy)\n",
    "\n",
    "\n",
    "validation_accuracy = run_batch(session, accuracy, valid_features, oh_valid_labels)    \n",
    "test_accuracy = run_batch(session, accuracy, test_features, oh_test_labels)\n",
    "\n",
    "print('Final validation accuracy: ', validation_accuracy)\n",
    "print('Final test accuracy: ', test_accuracy)\n",
    "loss_plot = plt.subplot(211)\n",
    "loss_plot.set_title('Loss')\n",
    "loss_plot.plot(batches, loss_batch, 'g')\n",
    "loss_plot.set_xlim([batches[0], batches[-1]])\n",
    "acc_plot = plt.subplot(212)\n",
    "acc_plot.set_title('Accuracy')\n",
    "acc_plot.plot(batches, train_acc_batch, 'r', label='Training Accuracy')\n",
    "acc_plot.plot(batches, valid_acc_batch, 'b', label='Validation Accuracy')\n",
    "acc_plot.set_ylim([0, 1.0])\n",
    "acc_plot.set_xlim([batches[0], batches[-1]])\n",
    "acc_plot.legend(loc=4)\n",
    "plt.tight_layout()\n",
    "plt.show()"
   ]
  },
  {
   "cell_type": "code",
   "execution_count": 20,
   "metadata": {},
   "outputs": [
    {
     "name": "stdout",
     "output_type": "stream",
     "text": [
      "WARNING:tensorflow:From <ipython-input-20-7011cdeeb7b5>:2: calling argmax (from tensorflow.python.ops.math_ops) with dimension is deprecated and will be removed in a future version.\n",
      "Instructions for updating:\n",
      "Use the `axis` argument instead\n",
      "Accuracy on Test-Set: 82.4% (10401 / 12630)\n",
      "Confusion Matrix:\n"
     ]
    },
    {
     "data": {
      "text/plain": [
       "<matplotlib.figure.Figure at 0x1fb0ae21240>"
      ]
     },
     "metadata": {},
     "output_type": "display_data"
    },
    {
     "data": {
      "image/png": "[encoded data removed]",
      "text/plain": [
       "<matplotlib.figure.Figure at 0x1fb0ae35b00>"
      ]
     },
     "metadata": {},
     "output_type": "display_data"
    }
   ],
   "source": [
    "test_batch_size = 250\n",
    "y_pred_cls = tf.argmax(prediction, dimension=1)\n",
    "test_cls = np.argmax(oh_test_labels, axis=1)\n",
    "from pylab import rcParams\n",
    "from sklearn.metrics import confusion_matrix\n",
    "\n",
    "img_shape = (32, 32, 3)\n",
    "def plot_images(images, cls_true, cls_pred=None):\n",
    "    assert len(images) == len(cls_true) == 9\n",
    "    \n",
    "    fig, axes = plt.subplots(3, 3)\n",
    "    fig.subplots_adjust(hspace=0.3, wspace=0.3)\n",
    "\n",
    "    for i, ax in enumerate(axes.flat):\n",
    "        ax.imshow(images[i].reshape(img_shape), cmap='binary')\n",
    "        if cls_pred is None:\n",
    "            xlabel = \"True: {0}\".format(np.argmax(cls_true[i]))\n",
    "        else:\n",
    "            xlabel = \"True: {0}, Pred: {1}\".format(np.argmax(cls_true[i]), np.argmax(cls_pred[i]))\n",
    "        ax.set_xlabel(xlabel)\n",
    "        ax.set_xticks([])\n",
    "        ax.set_yticks([])\n",
    "    \n",
    "    plt.show()\n",
    "    \n",
    "def plot_confusion_matrix(cls_pred):\n",
    "    cm = confusion_matrix(y_true=test_cls,\n",
    "                          y_pred=cls_pred)\n",
    "\n",
    "    plt.figure(figsize=(40,40))\n",
    "    rcParams['figure.figsize'] = 13, 13\n",
    "    plt.matshow(cm)\n",
    "    plt.colorbar()\n",
    "    tick_marks = np.arange(n_classes)\n",
    "    plt.xticks(tick_marks, range(n_classes))\n",
    "    plt.yticks(tick_marks, range(n_classes))\n",
    "    plt.xlabel('Predicted')\n",
    "    plt.ylabel('True')\n",
    "    plt.show()\n",
    "    \n",
    "\n",
    "def plot_example_errors(cls_pred, correct):\n",
    "\n",
    "    incorrect = (correct == False)    \n",
    "    images = test_features[incorrect]    \n",
    "    cls_pred = cls_pred[incorrect]\n",
    "    cls_true = test_cls[incorrect]    \n",
    "    plot_images(images=images[0:9],\n",
    "                cls_true=cls_true[0:9],\n",
    "                cls_pred=cls_pred[0:9])\n",
    "    \n",
    "def print_test_accuracy(show_example_errors=False,\n",
    "                        show_confusion_matrix=False):\n",
    "\n",
    "    num_test = len(test_features)\n",
    "    cls_pred = np.zeros(shape=num_test, dtype=np.int)\n",
    "    i = 0\n",
    "\n",
    "    while i < num_test:\n",
    "        j = min(i + test_batch_size, num_test)\n",
    "\n",
    "        batch_features = test_features[i:j]\n",
    "        batch_labels = oh_test_labels[i:j]\n",
    "        \n",
    "        feed_dict={input_ph: batch_features, labels_ph: batch_labels}\n",
    "\n",
    "        cls_pred[i:j] = session.run(y_pred_cls, feed_dict=feed_dict)\n",
    "        i = j\n",
    "\n",
    "    correct = (test_cls == cls_pred)\n",
    "    correct_sum = correct.sum()\n",
    "\n",
    "    acc = float(correct_sum) / num_test\n",
    "\n",
    "    msg = \"Accuracy on Test-Set: {0:.1%} ({1} / {2})\"\n",
    "    print(msg.format(acc, correct_sum, num_test))\n",
    "\n",
    "    if show_example_errors:\n",
    "        print(\"Example errors:\")\n",
    "        plot_example_errors(cls_pred=cls_pred, correct=correct)\n",
    "\n",
    "    if show_confusion_matrix:\n",
    "        print(\"Confusion Matrix:\")\n",
    "        plot_confusion_matrix(cls_pred=cls_pred)\n",
    "\n",
    "print_test_accuracy(show_example_errors=False, show_confusion_matrix=True)"
   ]
  },
  {
   "cell_type": "code",
   "execution_count": 2,
   "metadata": {},
   "outputs": [
    {
     "ename": "NameError",
     "evalue": "name 'plt' is not defined",
     "output_type": "error",
     "traceback": [
      "\u001b[1;31m---------------------------------------------------------------------------\u001b[0m",
      "\u001b[1;31mNameError\u001b[0m                                 Traceback (most recent call last)",
      "\u001b[1;32m<ipython-input-2-e1900441ddd1>\u001b[0m in \u001b[0;36m<module>\u001b[1;34m()\u001b[0m\n\u001b[0;32m     10\u001b[0m     \u001b[0mimage\u001b[0m \u001b[1;33m=\u001b[0m \u001b[0mmpimg\u001b[0m\u001b[1;33m.\u001b[0m\u001b[0mimread\u001b[0m\u001b[1;33m(\u001b[0m\u001b[1;34m'images/'\u001b[0m \u001b[1;33m+\u001b[0m \u001b[0mimgname\u001b[0m\u001b[1;33m)\u001b[0m\u001b[1;33m\u001b[0m\u001b[0m\n\u001b[0;32m     11\u001b[0m     \u001b[0mnew_input\u001b[0m\u001b[1;33m.\u001b[0m\u001b[0mappend\u001b[0m\u001b[1;33m(\u001b[0m\u001b[0mimage\u001b[0m\u001b[1;33m)\u001b[0m\u001b[1;33m\u001b[0m\u001b[0m\n\u001b[1;32m---> 12\u001b[1;33m     \u001b[0mplt\u001b[0m\u001b[1;33m.\u001b[0m\u001b[0mimshow\u001b[0m\u001b[1;33m(\u001b[0m\u001b[0mimage\u001b[0m\u001b[1;33m)\u001b[0m\u001b[1;33m\u001b[0m\u001b[0m\n\u001b[0m\u001b[0;32m     13\u001b[0m     \u001b[0mplt\u001b[0m\u001b[1;33m.\u001b[0m\u001b[0mshow\u001b[0m\u001b[1;33m(\u001b[0m\u001b[1;33m)\u001b[0m\u001b[1;33m\u001b[0m\u001b[0m\n",
      "\u001b[1;31mNameError\u001b[0m: name 'plt' is not defined"
     ]
    }
   ],
   "source": [
    "import matplotlib.image as mpimg\n",
    "\n",
    "imgs = ['20.png', '80.png', 'exclamation.png', 'hochwasser.png', 'priority.png']\n",
    "\n",
    "new_input = []\n",
    "\n",
    "for imgname in imgs:\n",
    "    image = mpimg.imread('images/' + imgname)\n",
    "    new_input.append(image)\n",
    "    plt.imshow(image)\n",
    "    plt.show()"
   ]
  },
  {
   "cell_type": "code",
   "execution_count": 29,
   "metadata": {},
   "outputs": [],
   "source": [
    "new_predictions = session.run(prediction, feed_dict={input_ph: new_input})"
   ]
  },
  {
   "cell_type": "code",
   "execution_count": 28,
   "metadata": {},
   "outputs": [
    {
     "name": "stdout",
     "output_type": "stream",
     "text": [
      "[[1.13001689e-02 1.67708332e-03 2.88844202e-03 2.73870602e-02\n",
      "  1.32138368e-07 4.56652828e-02 8.47165339e-15 6.05200834e-10\n",
      "  2.05455159e-04 4.51124564e-04 7.23424820e-10 2.55657908e-12\n",
      "  3.04366921e-10 8.99994671e-01 5.53629889e-07 8.72043771e-08\n",
      "  4.35022331e-12 8.37463085e-06 3.88259416e-08 1.87617205e-15\n",
      "  1.56241913e-05 9.63718793e-20 3.30159615e-11 5.85833292e-12\n",
      "  9.09234771e-11 3.50029033e-04 7.07327992e-16 7.18531845e-18\n",
      "  1.00456635e-02 8.24404742e-06 1.13133363e-15 1.54207105e-10\n",
      "  1.71412641e-11 1.28042360e-24 2.26595413e-12 6.05572060e-12\n",
      "  2.89732932e-10 3.01320405e-22 1.91412687e-06 3.67694909e-26\n",
      "  7.00178981e-16 3.24187316e-10 2.36592846e-16]\n",
      " [1.82464941e-08 6.80958200e-03 1.69107909e-04 1.26724718e-02\n",
      "  9.49375534e-15 9.80348885e-01 2.48925271e-19 2.14970768e-16\n",
      "  2.15766039e-16 7.50038079e-17 5.22529702e-16 4.64989322e-21\n",
      "  4.74805133e-27 5.48828010e-15 1.75605765e-19 2.02448582e-15\n",
      "  1.42877508e-28 2.40466047e-14 5.39789069e-25 2.81780981e-27\n",
      "  9.67970354e-24 7.07289027e-23 2.46698611e-30 9.84441486e-23\n",
      "  3.74433927e-22 8.82133586e-14 2.91699188e-32 4.34995417e-32\n",
      "  1.28678849e-21 5.15257447e-16 9.37557950e-27 1.21451364e-17\n",
      "  3.88105129e-24 1.75354149e-33 1.55174908e-28 2.47371958e-26\n",
      "  3.79717100e-30 0.00000000e+00 1.01336733e-25 0.00000000e+00\n",
      "  2.85102271e-29 2.48599854e-26 1.69230253e-22]\n",
      " [9.36423942e-12 3.71029309e-05 1.64599143e-07 1.25176022e-18\n",
      "  2.72851594e-07 1.16220478e-10 2.52619748e-24 3.83120174e-10\n",
      "  1.35256082e-01 1.76058604e-16 2.35752457e-16 7.79123468e-08\n",
      "  8.20998730e-21 2.02895149e-16 9.79762885e-12 4.94321375e-06\n",
      "  9.15883713e-20 3.18018635e-07 8.11866224e-01 7.90964743e-18\n",
      "  1.44054491e-10 1.18081738e-14 2.12985948e-11 1.68993712e-14\n",
      "  5.17906100e-02 9.46888395e-05 1.29713612e-07 6.42221698e-09\n",
      "  3.66755150e-04 1.79374867e-04 3.07503615e-06 4.00370569e-04\n",
      "  3.91160624e-24 6.78816578e-29 6.02914046e-22 1.18495022e-30\n",
      "  3.75319582e-25 6.89158795e-23 1.70224739e-20 5.64115233e-28\n",
      "  3.15999925e-19 8.18186730e-24 9.73785268e-29]\n",
      " [1.78788556e-23 9.33776152e-18 1.55500520e-19 5.23188293e-09\n",
      "  6.40310543e-30 2.50274194e-12 5.93180151e-17 9.35999444e-15\n",
      "  1.03691926e-21 8.96656036e-01 2.24354285e-11 3.74330927e-10\n",
      "  1.08441938e-07 3.33896786e-08 7.18530794e-34 3.38032501e-19\n",
      "  3.16539062e-09 2.58962737e-29 9.46323754e-25 5.33515731e-06\n",
      "  2.94624112e-08 9.97520841e-18 5.59660489e-27 6.91833719e-08\n",
      "  2.83051968e-16 1.04289314e-14 2.86588394e-24 2.39923777e-22\n",
      "  1.13752108e-07 1.65210558e-15 1.58790719e-13 1.15353186e-22\n",
      "  2.18954277e-09 8.36118454e-19 1.74843132e-13 1.64771441e-09\n",
      "  5.25901094e-11 1.22847987e-24 1.12665157e-14 2.57429595e-26\n",
      "  4.77815362e-16 1.03338368e-01 5.78663617e-10]\n",
      " [5.46157355e-11 1.92003718e-10 2.92080867e-13 8.54864299e-01\n",
      "  5.44658915e-24 8.00727685e-06 9.31631405e-07 3.98300939e-20\n",
      "  4.44992099e-10 1.03727298e-10 1.80014089e-17 4.07412690e-17\n",
      "  1.29805429e-11 1.28196859e-06 1.34178753e-26 3.84684926e-14\n",
      "  3.87652249e-19 3.92620384e-17 5.32828715e-21 7.30951719e-20\n",
      "  1.30862609e-01 1.69279295e-24 1.09165150e-20 1.24042304e-11\n",
      "  3.23355357e-16 1.12731968e-11 5.77171722e-23 7.90984617e-25\n",
      "  2.66397983e-04 1.29913673e-07 3.07408629e-21 5.03841527e-20\n",
      "  1.34034855e-02 2.86528937e-27 6.18895668e-13 7.02103028e-11\n",
      "  4.19703661e-04 6.34038907e-32 1.09699962e-04 2.01118904e-35\n",
      "  5.10158812e-17 6.35187243e-05 3.17726088e-11]]\n"
     ]
    }
   ],
   "source": [
    "print(new_predictions)"
   ]
  },
  {
   "cell_type": "code",
   "execution_count": 3,
   "metadata": {},
   "outputs": [
    {
     "ename": "NameError",
     "evalue": "name 'session' is not defined",
     "output_type": "error",
     "traceback": [
      "\u001b[1;31m---------------------------------------------------------------------------\u001b[0m",
      "\u001b[1;31mNameError\u001b[0m                                 Traceback (most recent call last)",
      "\u001b[1;32m<ipython-input-3-1d1e96a8aff5>\u001b[0m in \u001b[0;36m<module>\u001b[1;34m()\u001b[0m\n\u001b[1;32m----> 1\u001b[1;33m \u001b[0mprint\u001b[0m\u001b[1;33m(\u001b[0m\u001b[0msession\u001b[0m\u001b[1;33m.\u001b[0m\u001b[0mrun\u001b[0m\u001b[1;33m(\u001b[0m\u001b[0mtf\u001b[0m\u001b[1;33m.\u001b[0m\u001b[0mnn\u001b[0m\u001b[1;33m.\u001b[0m\u001b[0mtop_k\u001b[0m\u001b[1;33m(\u001b[0m\u001b[0mprediction\u001b[0m\u001b[1;33m,\u001b[0m \u001b[1;36m2\u001b[0m\u001b[1;33m)\u001b[0m\u001b[1;33m,\u001b[0m \u001b[0mfeed_dict\u001b[0m\u001b[1;33m=\u001b[0m\u001b[1;33m{\u001b[0m\u001b[0minput_ph\u001b[0m\u001b[1;33m:\u001b[0m \u001b[0mnew_input\u001b[0m\u001b[1;33m}\u001b[0m\u001b[1;33m)\u001b[0m\u001b[1;33m)\u001b[0m\u001b[1;33m\u001b[0m\u001b[0m\n\u001b[0m",
      "\u001b[1;31mNameError\u001b[0m: name 'session' is not defined"
     ]
    }
   ],
   "source": [
    "print(session.run(tf.nn.top_k(prediction, 2), feed_dict={input_ph: new_input}))\n"
   ]
  },
  {
   "cell_type": "code",
   "execution_count": null,
   "metadata": {
    "collapsed": true
   },
   "outputs": [],
   "source": []
  }
 ],
 "metadata": {
  "anaconda-cloud": {},
  "kernelspec": {
   "display_name": "Python 3",
   "language": "python",
   "name": "python3"
  },
  "language_info": {
   "codemirror_mode": {
    "name": "ipython",
    "version": 3
   },
   "file_extension": ".py",
   "mimetype": "text/x-python",
   "name": "python",
   "nbconvert_exporter": "python",
   "pygments_lexer": "ipython3",
   "version": "3.5.4"
  }
 },
 "nbformat": 4,
 "nbformat_minor": 1
}
